{
 "cells": [
  {
   "cell_type": "code",
   "execution_count": 25,
   "id": "d4bbac2e",
   "metadata": {},
   "outputs": [],
   "source": [
    "import tensorflow as tf\n",
    "from tensorflow import keras\n",
    "from tensorflow.keras import layers, regularizers\n",
    "from tensorflow.keras.datasets import mnist\n",
    "import pandas as pd\n",
    "import os"
   ]
  },
  {
   "cell_type": "code",
   "execution_count": 26,
   "id": "db44a00a",
   "metadata": {},
   "outputs": [],
   "source": [
    "# HYPERPARAMETERS\n",
    "BATCH_SIZE = 64\n",
    "WEIGHT_DECAY = 0.001\n",
    "LEARNING_RATE = 0.001\n",
    "\n",
    "train_df = pd.read_csv(\"Multi_Digit_Mnist/train.csv\")\n",
    "test_df = pd.read_csv(\"Multi_Digit_Mnist/test.csv\")\n",
    "train_images = os.getcwd() + \"/Multi_Digit_Mnist/train_images/\" + train_df.iloc[:, 0].values\n",
    "test_images = os.getcwd() + \"/Multi_Digit_Mnist/test_images/\" + test_df.iloc[:, 0].values"
   ]
  },
  {
   "cell_type": "code",
   "execution_count": 27,
   "id": "602169f8",
   "metadata": {},
   "outputs": [],
   "source": [
    "train_labels = train_df.iloc[:, 1:].values\n",
    "test_labels = test_df.iloc[:, 1:].values\n",
    "\n",
    "\n",
    "def read_image(image_path, label):\n",
    "    image = tf.io.read_file(image_path)\n",
    "    image = tf.image.decode_image(image, channels=1, dtype=tf.float32)\n",
    "\n",
    "    # In older versions you need to set shape in order to avoid error\n",
    "    # on newer (2.3.0+) the following 3 lines can safely be removed\n",
    "    image.set_shape((64, 64, 1))\n",
    "    label[0].set_shape([])\n",
    "    label[1].set_shape([])\n",
    "\n",
    "    labels = {\"first_num\": label[0], \"second_num\": label[1]}\n",
    "    return image, labels\n",
    "\n",
    "\n",
    "AUTOTUNE = tf.data.experimental.AUTOTUNE\n",
    "train_dataset = tf.data.Dataset.from_tensor_slices((train_images, train_labels))\n",
    "train_dataset = (\n",
    "    train_dataset.shuffle(buffer_size=len(train_labels))\n",
    "    .map(read_image)\n",
    "    .batch(batch_size=BATCH_SIZE)\n",
    "    .prefetch(buffer_size=AUTOTUNE)\n",
    ")\n",
    "\n",
    "test_dataset = tf.data.Dataset.from_tensor_slices((test_images, test_labels))\n",
    "test_dataset = (\n",
    "    test_dataset.map(read_image)\n",
    "    .batch(batch_size=BATCH_SIZE)\n",
    "    .prefetch(buffer_size=AUTOTUNE)\n",
    ")\n"
   ]
  },
  {
   "cell_type": "code",
   "execution_count": 28,
   "id": "b2a9b7c6",
   "metadata": {},
   "outputs": [],
   "source": [
    "inputs = keras.Input(shape=(64,64,1))\n",
    "x = layers.Conv2D(\n",
    "    filters=32,\n",
    "    kernel_size=3,\n",
    "    padding='same',\n",
    "    kernel_regularizer=regularizers.l2(WEIGHT_DECAY),\n",
    ")(inputs)\n",
    "x = layers.BatchNormalization()(x)\n",
    "x = keras.activations.relu(x)\n",
    "x = layers.Conv2D(64, 3, kernel_regularizer=regularizers.l2(WEIGHT_DECAY))(x)\n",
    "x = layers.BatchNormalization()(x)\n",
    "x = keras.activations.relu(x)\n",
    "x = layers.MaxPooling2D()(x)\n",
    "x = layers.Conv2D(64, 3, activation='relu', kernel_regularizer=regularizers.l2(WEIGHT_DECAY))(x)\n",
    "x = layers.Conv2D(128, 3, activation='relu')(x)\n",
    "x = layers.MaxPooling2D()(x)\n",
    "x = layers.Flatten()(x)\n",
    "x = layers.Dense(128, activation='relu')(x)\n",
    "x = layers.Dropout(0.5)(x)\n",
    "x = layers.Dense(64, activation='relu')(x)\n",
    "output1 = layers.Dense(10, activation='softmax',name='first_num')(x)\n",
    "out_put2 = layers.Dense(10, activation='softmax',name='second_num')(x)"
   ]
  },
  {
   "cell_type": "code",
   "execution_count": 29,
   "id": "b8d31d45",
   "metadata": {},
   "outputs": [],
   "source": [
    "model = keras.Model(inputs=inputs, outputs=[output1,out_put2])"
   ]
  },
  {
   "cell_type": "code",
   "execution_count": 30,
   "id": "968ac9c8",
   "metadata": {},
   "outputs": [],
   "source": [
    "model.compile(\n",
    "    optimizer=keras.optimizers.Adam(LEARNING_RATE),\n",
    "    loss=[\n",
    "        keras.losses.SparseCategoricalCrossentropy(),\n",
    "        keras.losses.SparseCategoricalCrossentropy(),\n",
    "    ],\n",
    "    metrics=[\"accuracy\"],\n",
    ")"
   ]
  },
  {
   "cell_type": "code",
   "execution_count": 31,
   "id": "56c3fc76",
   "metadata": {},
   "outputs": [
    {
     "name": "stdout",
     "output_type": "stream",
     "text": [
      "Epoch 1/5\n",
      "1000/1000 - 675s - loss: 2.0820 - first_num_loss: 1.0000 - second_num_loss: 1.0059 - first_num_accuracy: 0.6410 - second_num_accuracy: 0.6352 - 675s/epoch - 675ms/step\n",
      "Epoch 2/5\n",
      "1000/1000 - 410s - loss: 0.6663 - first_num_loss: 0.3030 - second_num_loss: 0.3055 - first_num_accuracy: 0.8992 - second_num_accuracy: 0.8967 - 410s/epoch - 410ms/step\n",
      "Epoch 3/5\n",
      "1000/1000 - 443s - loss: 0.4358 - first_num_loss: 0.1922 - second_num_loss: 0.1907 - first_num_accuracy: 0.9373 - second_num_accuracy: 0.9375 - 443s/epoch - 443ms/step\n",
      "Epoch 4/5\n",
      "1000/1000 - 525s - loss: 0.3363 - first_num_loss: 0.1462 - second_num_loss: 0.1399 - first_num_accuracy: 0.9522 - second_num_accuracy: 0.9543 - 525s/epoch - 525ms/step\n",
      "Epoch 5/5\n",
      "1000/1000 - 506s - loss: 0.2753 - first_num_loss: 0.1147 - second_num_loss: 0.1118 - first_num_accuracy: 0.9629 - second_num_accuracy: 0.9626 - 506s/epoch - 506ms/step\n",
      "313/313 - 104s - loss: 1.2462 - first_num_loss: 0.4062 - second_num_loss: 0.7928 - first_num_accuracy: 0.8795 - second_num_accuracy: 0.7984 - 104s/epoch - 332ms/step\n"
     ]
    },
    {
     "data": {
      "text/plain": [
       "[1.246191143989563,\n",
       " 0.40618160367012024,\n",
       " 0.792787492275238,\n",
       " 0.8794500231742859,\n",
       " 0.7984499931335449]"
      ]
     },
     "execution_count": 31,
     "metadata": {},
     "output_type": "execute_result"
    }
   ],
   "source": [
    "model.fit(train_dataset, epochs=5, verbose=2)\n",
    "model.evaluate(test_dataset, verbose=2)"
   ]
  },
  {
   "cell_type": "code",
   "execution_count": null,
   "id": "83f8a385",
   "metadata": {},
   "outputs": [],
   "source": []
  }
 ],
 "metadata": {
  "kernelspec": {
   "display_name": "Python 3 (ipykernel)",
   "language": "python",
   "name": "python3"
  },
  "language_info": {
   "codemirror_mode": {
    "name": "ipython",
    "version": 3
   },
   "file_extension": ".py",
   "mimetype": "text/x-python",
   "name": "python",
   "nbconvert_exporter": "python",
   "pygments_lexer": "ipython3",
   "version": "3.9.17"
  }
 },
 "nbformat": 4,
 "nbformat_minor": 5
}
