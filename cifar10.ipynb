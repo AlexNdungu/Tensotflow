{
 "cells": [
  {
   "cell_type": "code",
   "execution_count": 1,
   "id": "3bc6ee74",
   "metadata": {},
   "outputs": [],
   "source": [
    "import tensorflow as tf\n",
    "from tensorflow import keras\n",
    "from tensorflow.keras import layers\n",
    "from tensorflow.keras.datasets import cifar10"
   ]
  },
  {
   "cell_type": "code",
   "execution_count": 2,
   "id": "df574209",
   "metadata": {},
   "outputs": [
    {
     "name": "stdout",
     "output_type": "stream",
     "text": [
      "A local file was found, but it seems to be incomplete or outdated because the auto file hash does not match the original value of 6d958be074577803d12ecdefd02955f39262c83c16fe9348329d7fe0b5c001ce so we will re-download the data.\n",
      "Downloading data from https://www.cs.toronto.edu/~kriz/cifar-10-python.tar.gz\n",
      "170498071/170498071 [==============================] - 455s 3us/step\n"
     ]
    }
   ],
   "source": [
    "(x_train, y_train), (x_test, y_test) = cifar10.load_data()"
   ]
  },
  {
   "cell_type": "code",
   "execution_count": 3,
   "id": "51aa6b59",
   "metadata": {},
   "outputs": [],
   "source": [
    "x_train = x_train.astype(\"float32\") / 255.0\n",
    "x_test = x_test.astype(\"float32\") / 255.0"
   ]
  },
  {
   "cell_type": "code",
   "execution_count": 4,
   "id": "3df7b48d",
   "metadata": {},
   "outputs": [
    {
     "name": "stdout",
     "output_type": "stream",
     "text": [
      "Epoch 1/10\n",
      "782/782 - 58s - loss: 1.6734 - accuracy: 0.3886 - 58s/epoch - 74ms/step\n",
      "Epoch 2/10\n",
      "782/782 - 38s - loss: 1.3466 - accuracy: 0.5183 - 38s/epoch - 49ms/step\n",
      "Epoch 3/10\n",
      "782/782 - 21s - loss: 1.2132 - accuracy: 0.5701 - 21s/epoch - 26ms/step\n",
      "Epoch 4/10\n",
      "782/782 - 21s - loss: 1.1102 - accuracy: 0.6097 - 21s/epoch - 26ms/step\n",
      "Epoch 5/10\n",
      "782/782 - 21s - loss: 1.0365 - accuracy: 0.6382 - 21s/epoch - 27ms/step\n",
      "Epoch 6/10\n",
      "782/782 - 21s - loss: 0.9755 - accuracy: 0.6592 - 21s/epoch - 26ms/step\n",
      "Epoch 7/10\n",
      "782/782 - 20s - loss: 0.9220 - accuracy: 0.6810 - 20s/epoch - 26ms/step\n",
      "Epoch 8/10\n",
      "782/782 - 20s - loss: 0.8814 - accuracy: 0.6941 - 20s/epoch - 26ms/step\n",
      "Epoch 9/10\n",
      "782/782 - 20s - loss: 0.8393 - accuracy: 0.7103 - 20s/epoch - 26ms/step\n",
      "Epoch 10/10\n",
      "782/782 - 20s - loss: 0.8022 - accuracy: 0.7235 - 20s/epoch - 26ms/step\n",
      "157/157 - 3s - loss: 0.8900 - accuracy: 0.6917 - 3s/epoch - 16ms/step\n"
     ]
    },
    {
     "data": {
      "text/plain": [
       "[0.8900293707847595, 0.6916999816894531]"
      ]
     },
     "execution_count": 4,
     "metadata": {},
     "output_type": "execute_result"
    }
   ],
   "source": [
    "#Sequential Model\n",
    "model = keras.Sequential(\n",
    "    [\n",
    "        keras.Input(shape=(32, 32, 3)),\n",
    "        layers.Conv2D(32, 3, padding='valid', activation='relu'),\n",
    "        layers.MaxPooling2D(pool_size=(2,2)),\n",
    "        layers.Conv2D(64, 3, activation='relu'),\n",
    "        layers.MaxPooling2D(),\n",
    "        layers.Conv2D(128, 3, activation='relu'),\n",
    "        layers.Flatten(),\n",
    "        layers.Dense(64, activation='relu'),\n",
    "        layers.Dense(10),\n",
    "    ]\n",
    ")\n",
    "\n",
    "model.compile(\n",
    "    loss=keras.losses.SparseCategoricalCrossentropy(from_logits=True),\n",
    "    optimizer = keras.optimizers.Adam(learning_rate=3e-4),\n",
    "    metrics = [\"accuracy\"],\n",
    ")\n",
    "\n",
    "\n",
    "model.fit(x_train, y_train, batch_size=64, epochs=10, verbose=2)\n",
    "model.evaluate(x_test, y_test, batch_size=64, verbose=2)"
   ]
  },
  {
   "cell_type": "code",
   "execution_count": 8,
   "id": "360de00e",
   "metadata": {},
   "outputs": [],
   "source": [
    "def my_model():\n",
    "    inputs = keras.Input(shape=(32,32,3))\n",
    "    x = layers.Conv2D(32,3)(inputs)\n",
    "    x = layers.BatchNormalization()(x)\n",
    "    x = keras.activations.relu(x)\n",
    "    x = layers.MaxPooling2D()(x)\n",
    "    x = layers.Conv2D(64, 5, padding='same')(x)\n",
    "    x = layers.BatchNormalization()(x)\n",
    "    x = keras.activations.relu(x)\n",
    "    x = layers.Conv2D(128, 3)(x)\n",
    "    x = layers.BatchNormalization()(x)\n",
    "    x = keras.activations.relu(x)\n",
    "    x = layers.Flatten()(x)\n",
    "    x = layers.Dense(64, activation='relu')(x)\n",
    "    outputs = layers.Dense(10)(x)\n",
    "    model = keras.Model(inputs=inputs, outputs=outputs)\n",
    "    \n",
    "    return model"
   ]
  },
  {
   "cell_type": "code",
   "execution_count": 9,
   "id": "35f958b8",
   "metadata": {},
   "outputs": [
    {
     "name": "stdout",
     "output_type": "stream",
     "text": [
      "Epoch 1/10\n",
      "782/782 - 75s - loss: 1.3465 - accuracy: 0.5248 - 75s/epoch - 96ms/step\n",
      "Epoch 2/10\n",
      "782/782 - 73s - loss: 0.9143 - accuracy: 0.6815 - 73s/epoch - 94ms/step\n",
      "Epoch 3/10\n",
      "782/782 - 942s - loss: 0.7488 - accuracy: 0.7405 - 942s/epoch - 1s/step\n",
      "Epoch 4/10\n",
      "782/782 - 88s - loss: 0.6281 - accuracy: 0.7815 - 88s/epoch - 113ms/step\n",
      "Epoch 5/10\n",
      "782/782 - 75s - loss: 0.5355 - accuracy: 0.8136 - 75s/epoch - 96ms/step\n",
      "Epoch 6/10\n",
      "782/782 - 101s - loss: 0.4564 - accuracy: 0.8419 - 101s/epoch - 129ms/step\n",
      "Epoch 7/10\n",
      "782/782 - 74s - loss: 0.3876 - accuracy: 0.8656 - 74s/epoch - 95ms/step\n",
      "Epoch 8/10\n",
      "782/782 - 168s - loss: 0.3226 - accuracy: 0.8910 - 168s/epoch - 215ms/step\n",
      "Epoch 9/10\n",
      "782/782 - 75s - loss: 0.2582 - accuracy: 0.9137 - 75s/epoch - 96ms/step\n",
      "Epoch 10/10\n",
      "782/782 - 74s - loss: 0.2178 - accuracy: 0.9271 - 74s/epoch - 94ms/step\n",
      "157/157 - 5s - loss: 1.2202 - accuracy: 0.6709 - 5s/epoch - 31ms/step\n"
     ]
    },
    {
     "data": {
      "text/plain": [
       "[1.2202131748199463, 0.6708999872207642]"
      ]
     },
     "execution_count": 9,
     "metadata": {},
     "output_type": "execute_result"
    }
   ],
   "source": [
    "model = my_model()\n",
    "\n",
    "model.compile(\n",
    "    loss=keras.losses.SparseCategoricalCrossentropy(from_logits=True),\n",
    "    optimizer = keras.optimizers.Adam(learning_rate=3e-4),\n",
    "    metrics = [\"accuracy\"],\n",
    ")\n",
    "\n",
    "\n",
    "model.fit(x_train, y_train, batch_size=64, epochs=10, verbose=2)\n",
    "model.evaluate(x_test, y_test, batch_size=64, verbose=2)"
   ]
  },
  {
   "cell_type": "code",
   "execution_count": null,
   "id": "0cbfc6a8",
   "metadata": {},
   "outputs": [],
   "source": []
  }
 ],
 "metadata": {
  "kernelspec": {
   "display_name": "Python 3 (ipykernel)",
   "language": "python",
   "name": "python3"
  },
  "language_info": {
   "codemirror_mode": {
    "name": "ipython",
    "version": 3
   },
   "file_extension": ".py",
   "mimetype": "text/x-python",
   "name": "python",
   "nbconvert_exporter": "python",
   "pygments_lexer": "ipython3",
   "version": "3.9.17"
  }
 },
 "nbformat": 4,
 "nbformat_minor": 5
}
