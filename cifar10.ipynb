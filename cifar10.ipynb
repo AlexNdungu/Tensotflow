{
 "cells": [
  {
   "cell_type": "code",
   "execution_count": 10,
   "id": "3bc6ee74",
   "metadata": {},
   "outputs": [],
   "source": [
    "import tensorflow as tf\n",
    "from tensorflow import keras\n",
    "from tensorflow.keras import layers, regularizers\n",
    "from tensorflow.keras.datasets import cifar10"
   ]
  },
  {
   "cell_type": "code",
   "execution_count": 11,
   "id": "df574209",
   "metadata": {},
   "outputs": [],
   "source": [
    "(x_train, y_train), (x_test, y_test) = cifar10.load_data()"
   ]
  },
  {
   "cell_type": "code",
   "execution_count": 12,
   "id": "6af901ca",
   "metadata": {},
   "outputs": [],
   "source": [
    "x_train = x_train.astype(\"float32\") / 255.0\n",
    "x_test = x_test.astype(\"float32\") / 255.0"
   ]
  },
  {
   "cell_type": "code",
   "execution_count": 4,
   "id": "2d4f95a1",
   "metadata": {},
   "outputs": [
    {
     "name": "stdout",
     "output_type": "stream",
     "text": [
      "Epoch 1/10\n",
      "782/782 - 58s - loss: 1.6734 - accuracy: 0.3886 - 58s/epoch - 74ms/step\n",
      "Epoch 2/10\n",
      "782/782 - 38s - loss: 1.3466 - accuracy: 0.5183 - 38s/epoch - 49ms/step\n",
      "Epoch 3/10\n",
      "782/782 - 21s - loss: 1.2132 - accuracy: 0.5701 - 21s/epoch - 26ms/step\n",
      "Epoch 4/10\n",
      "782/782 - 21s - loss: 1.1102 - accuracy: 0.6097 - 21s/epoch - 26ms/step\n",
      "Epoch 5/10\n",
      "782/782 - 21s - loss: 1.0365 - accuracy: 0.6382 - 21s/epoch - 27ms/step\n",
      "Epoch 6/10\n",
      "782/782 - 21s - loss: 0.9755 - accuracy: 0.6592 - 21s/epoch - 26ms/step\n",
      "Epoch 7/10\n",
      "782/782 - 20s - loss: 0.9220 - accuracy: 0.6810 - 20s/epoch - 26ms/step\n",
      "Epoch 8/10\n",
      "782/782 - 20s - loss: 0.8814 - accuracy: 0.6941 - 20s/epoch - 26ms/step\n",
      "Epoch 9/10\n",
      "782/782 - 20s - loss: 0.8393 - accuracy: 0.7103 - 20s/epoch - 26ms/step\n",
      "Epoch 10/10\n",
      "782/782 - 20s - loss: 0.8022 - accuracy: 0.7235 - 20s/epoch - 26ms/step\n",
      "157/157 - 3s - loss: 0.8900 - accuracy: 0.6917 - 3s/epoch - 16ms/step\n"
     ]
    },
    {
     "data": {
      "text/plain": [
       "[0.8900293707847595, 0.6916999816894531]"
      ]
     },
     "execution_count": 4,
     "metadata": {},
     "output_type": "execute_result"
    }
   ],
   "source": [
    "#Sequential Model\n",
    "model = keras.Sequential(\n",
    "    [\n",
    "        keras.Input(shape=(32, 32, 3)),\n",
    "        layers.Conv2D(32, 3, padding='valid', activation='relu'),\n",
    "        layers.MaxPooling2D(pool_size=(2,2)),\n",
    "        layers.Conv2D(64, 3, activation='relu'),\n",
    "        layers.MaxPooling2D(),\n",
    "        layers.Conv2D(128, 3, activation='relu'),\n",
    "        layers.Flatten(),\n",
    "        layers.Dense(64, activation='relu'),\n",
    "        layers.Dense(10),\n",
    "    ]\n",
    ")\n",
    "\n",
    "model.compile(\n",
    "    loss=keras.losses.SparseCategoricalCrossentropy(from_logits=True),\n",
    "    optimizer = keras.optimizers.Adam(learning_rate=3e-4),\n",
    "    metrics = [\"accuracy\"],\n",
    ")\n",
    "\n",
    "\n",
    "model.fit(x_train, y_train, batch_size=64, epochs=10, verbose=2)\n",
    "model.evaluate(x_test, y_test, batch_size=64, verbose=2)"
   ]
  },
  {
   "cell_type": "code",
   "execution_count": 13,
   "id": "993ca456",
   "metadata": {},
   "outputs": [],
   "source": [
    "def my_model():\n",
    "    inputs = keras.Input(shape=(32,32,3))\n",
    "    x = layers.Conv2D(32,3, padding='same', kernel_regularizer=regularizers.l2(0.01))(inputs)\n",
    "    x = layers.BatchNormalization()(x)\n",
    "    x = keras.activations.relu(x)\n",
    "    x = layers.MaxPooling2D()(x)\n",
    "    x = layers.Conv2D(64, 3, padding='same', kernel_regularizer=regularizers.l2(0.01))(x)\n",
    "    x = layers.BatchNormalization()(x)\n",
    "    x = keras.activations.relu(x)\n",
    "    x = layers.Conv2D(128, 3, padding='same', kernel_regularizer=regularizers.l2(0.01))(x)\n",
    "    x = layers.BatchNormalization()(x)\n",
    "    x = keras.activations.relu(x)\n",
    "    x = layers.Flatten()(x)\n",
    "    x = layers.Dense(64, activation='relu', kernel_regularizer=regularizers.l2(0.01))(x)\n",
    "    x = layers.Dropout(0.5)(x)\n",
    "    outputs = layers.Dense(10)(x)\n",
    "    model = keras.Model(inputs=inputs, outputs=outputs)\n",
    "    \n",
    "    return model"
   ]
  },
  {
   "cell_type": "code",
   "execution_count": null,
   "id": "c69fb1a9",
   "metadata": {},
   "outputs": [
    {
     "name": "stdout",
     "output_type": "stream",
     "text": [
      "Epoch 1/150\n",
      "782/782 - 126s - loss: 3.0192 - accuracy: 0.1916 - 126s/epoch - 162ms/step\n",
      "Epoch 2/150\n",
      "782/782 - 107s - loss: 2.1755 - accuracy: 0.2032 - 107s/epoch - 136ms/step\n",
      "Epoch 3/150\n",
      "782/782 - 106s - loss: 2.0888 - accuracy: 0.2072 - 106s/epoch - 136ms/step\n",
      "Epoch 4/150\n",
      "782/782 - 91s - loss: 2.0472 - accuracy: 0.2129 - 91s/epoch - 116ms/step\n",
      "Epoch 5/150\n",
      "782/782 - 96s - loss: 2.0362 - accuracy: 0.2142 - 96s/epoch - 122ms/step\n",
      "Epoch 6/150\n",
      "782/782 - 92s - loss: 2.0278 - accuracy: 0.2197 - 92s/epoch - 118ms/step\n",
      "Epoch 7/150\n",
      "782/782 - 88s - loss: 2.0207 - accuracy: 0.2211 - 88s/epoch - 112ms/step\n",
      "Epoch 8/150\n",
      "782/782 - 86s - loss: 2.0069 - accuracy: 0.2269 - 86s/epoch - 110ms/step\n",
      "Epoch 9/150\n",
      "782/782 - 98s - loss: 2.0022 - accuracy: 0.2306 - 98s/epoch - 126ms/step\n",
      "Epoch 10/150\n",
      "782/782 - 90s - loss: 2.0104 - accuracy: 0.2303 - 90s/epoch - 115ms/step\n",
      "Epoch 11/150\n",
      "782/782 - 88s - loss: 1.9958 - accuracy: 0.2383 - 88s/epoch - 113ms/step\n",
      "Epoch 12/150\n",
      "782/782 - 86s - loss: 1.9959 - accuracy: 0.2408 - 86s/epoch - 110ms/step\n",
      "Epoch 13/150\n",
      "782/782 - 88s - loss: 1.9886 - accuracy: 0.2410 - 88s/epoch - 113ms/step\n",
      "Epoch 14/150\n",
      "782/782 - 89s - loss: 1.9861 - accuracy: 0.2440 - 89s/epoch - 113ms/step\n",
      "Epoch 15/150\n",
      "782/782 - 91s - loss: 1.9887 - accuracy: 0.2435 - 91s/epoch - 117ms/step\n",
      "Epoch 16/150\n",
      "782/782 - 88s - loss: 1.9858 - accuracy: 0.2424 - 88s/epoch - 113ms/step\n",
      "Epoch 17/150\n",
      "782/782 - 88s - loss: 1.9750 - accuracy: 0.2443 - 88s/epoch - 112ms/step\n",
      "Epoch 18/150\n",
      "782/782 - 89s - loss: 1.9682 - accuracy: 0.2483 - 89s/epoch - 113ms/step\n",
      "Epoch 19/150\n"
     ]
    }
   ],
   "source": [
    "model = my_model()\n",
    "\n",
    "model.compile(\n",
    "    loss=keras.losses.SparseCategoricalCrossentropy(from_logits=True),\n",
    "    optimizer = keras.optimizers.Adam(learning_rate=3e-4),\n",
    "    metrics = [\"accuracy\"],\n",
    ")\n",
    "\n",
    "\n",
    "model.fit(x_train, y_train, batch_size=64, epochs=150, verbose=2)\n",
    "model.evaluate(x_test, y_test, batch_size=64, verbose=2)"
   ]
  },
  {
   "cell_type": "code",
   "execution_count": null,
   "id": "f96bc580",
   "metadata": {},
   "outputs": [],
   "source": []
  }
 ],
 "metadata": {
  "kernelspec": {
   "display_name": "Python 3 (ipykernel)",
   "language": "python",
   "name": "python3"
  },
  "language_info": {
   "codemirror_mode": {
    "name": "ipython",
    "version": 3
   },
   "file_extension": ".py",
   "mimetype": "text/x-python",
   "name": "python",
   "nbconvert_exporter": "python",
   "pygments_lexer": "ipython3",
   "version": "3.9.17"
  }
 },
 "nbformat": 4,
 "nbformat_minor": 5
}
