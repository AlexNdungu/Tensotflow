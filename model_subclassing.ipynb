{
 "cells": [
  {
   "cell_type": "code",
   "execution_count": 6,
   "id": "123646a7",
   "metadata": {},
   "outputs": [],
   "source": [
    "import tensorflow as tf\n",
    "from tensorflow import keras\n",
    "from tensorflow.keras import layers\n",
    "from tensorflow.keras.datasets import mnist"
   ]
  },
  {
   "cell_type": "code",
   "execution_count": 7,
   "id": "70757bb6",
   "metadata": {},
   "outputs": [],
   "source": [
    "(x_train, y_train), (x_test, y_test) = mnist.load_data()"
   ]
  },
  {
   "cell_type": "code",
   "execution_count": 8,
   "id": "99b1d6ed",
   "metadata": {},
   "outputs": [],
   "source": [
    "x_train = x_train.reshape(-1,28,28,1).astype(\"float32\") / 255.0\n",
    "x_test = x_test.reshape(-1,28,28,1).astype(\"float32\") / 255.0"
   ]
  },
  {
   "cell_type": "code",
   "execution_count": 13,
   "id": "bb5011eb",
   "metadata": {},
   "outputs": [],
   "source": [
    "class CNNBlock(layers.Layer):\n",
    "    def __init__(self, out_channels, kernel_size=3):\n",
    "        super(CNNBlock, self).__init__()\n",
    "        self.conv = layers.Conv2D(out_channels, kernel_size, padding='same')\n",
    "        self.bn = layers.BatchNormalization()\n",
    "        \n",
    "    def call(self, input_tensor, training=False):\n",
    "        x = self.conv(input_tensor)\n",
    "        x = self.bn(x, training=training)\n",
    "        x = tf.nn.relu(x)\n",
    "        return x"
   ]
  },
  {
   "cell_type": "code",
   "execution_count": 14,
   "id": "03d196fc",
   "metadata": {},
   "outputs": [],
   "source": [
    "model = keras.Sequential(\n",
    "[\n",
    "    CNNBlock(32),\n",
    "    CNNBlock(64),\n",
    "    CNNBlock(128),\n",
    "    layers.Flatten(),\n",
    "    layers.Dense(10),\n",
    "])"
   ]
  },
  {
   "cell_type": "code",
   "execution_count": 17,
   "id": "71d7794a",
   "metadata": {},
   "outputs": [],
   "source": [
    "model.compile(\n",
    "    optimizer = keras.optimizers.Adam(),\n",
    "    loss = keras.losses.SparseCategoricalCrossentropy(from_logits=True),\n",
    "    metrics=[\"accuracy\"],\n",
    ")"
   ]
  },
  {
   "cell_type": "code",
   "execution_count": 18,
   "id": "e215acc1",
   "metadata": {},
   "outputs": [
    {
     "name": "stdout",
     "output_type": "stream",
     "text": [
      "Epoch 1/3\n",
      "938/938 - 335s - loss: 0.5471 - accuracy: 0.9483 - 335s/epoch - 358ms/step\n",
      "Epoch 2/3\n",
      "938/938 - 341s - loss: 0.0868 - accuracy: 0.9827 - 341s/epoch - 364ms/step\n",
      "Epoch 3/3\n",
      "938/938 - 370s - loss: 0.0328 - accuracy: 0.9904 - 370s/epoch - 395ms/step\n",
      "157/157 - 8s - loss: 0.0534 - accuracy: 0.9857 - 8s/epoch - 50ms/step\n"
     ]
    },
    {
     "data": {
      "text/plain": [
       "[0.0534060075879097, 0.9857000112533569]"
      ]
     },
     "execution_count": 18,
     "metadata": {},
     "output_type": "execute_result"
    }
   ],
   "source": [
    "model.fit(x_train,y_train, batch_size=64, epochs=3, verbose=2)\n",
    "model.evaluate(x_test,y_test, batch_size=64, verbose=2)"
   ]
  },
  {
   "cell_type": "code",
   "execution_count": 19,
   "id": "01de3f99",
   "metadata": {},
   "outputs": [],
   "source": [
    "#ResBlock\n",
    "class ResBlock(layers.Layer):\n",
    "    def __init__(self, channels):\n",
    "        \n",
    "        super(ResBlock, self).__init__()\n",
    "        self.ccn1 = CNNBlock(channels[0])\n",
    "        self.ccn2 = CNNBlock(channels[1])\n",
    "        self.ccn3 = CNNBlock(channels[2])\n",
    "        self.pooling = layers.MaxPooling2D()\n",
    "        self.identity_mapping = layers.Conv2D(channels[1], 1, padding='same')\n",
    "        \n",
    "    def call(self, input_tensor, training=False):\n",
    "        x = self.ccn1(input_tensor, training=training)\n",
    "        x = self.ccn2(x, training=training)\n",
    "        x = self.ccn3(x + self.identity_mapping(input_tensor), training=training)\n",
    "        return self.pooling(x)"
   ]
  },
  {
   "cell_type": "code",
   "execution_count": 21,
   "id": "81be1ffd",
   "metadata": {},
   "outputs": [],
   "source": [
    "class ResNet_like(keras.Model):\n",
    "    def __init__(self, num_classes=10):\n",
    "        \n",
    "        super(ResNet_like, self).__init__()\n",
    "        self.block1 = ResBlock([32,32,64])\n",
    "        self.block2 = ResBlock([128,128,256])\n",
    "        self.block3 = ResBlock([128,256,512])\n",
    "        self.pool = layers.GlobalAveragePooling2D()\n",
    "        self.classifier = layers.Dense(num_classes)\n",
    "        \n",
    "    def call(self, input_tensor, training=False):\n",
    "        x = self.block1(input_tensor, training=training)\n",
    "        x = self.block2(x, training=training)\n",
    "        x = self.block3(x, training=training)\n",
    "        x = self.pool(x)\n",
    "        return self.classifier(x)\n",
    "        "
   ]
  },
  {
   "cell_type": "code",
   "execution_count": 24,
   "id": "7578715f",
   "metadata": {},
   "outputs": [],
   "source": [
    "model = ResNet_like(num_classes=10)\n",
    "model.compile(\n",
    "    optimizer = keras.optimizers.Adam(),\n",
    "    loss = keras.losses.SparseCategoricalCrossentropy(from_logits=True),\n",
    "    metrics=[\"accuracy\"],\n",
    ")"
   ]
  },
  {
   "cell_type": "code",
   "execution_count": null,
   "id": "62295ea7",
   "metadata": {},
   "outputs": [],
   "source": [
    "model.fit(x_train,y_train, batch_size=64, epochs=3, verbose=2)\n",
    "model.evaluate(x_test,y_test, batch_size=64, verbose=2)"
   ]
  }
 ],
 "metadata": {
  "kernelspec": {
   "display_name": "Python 3 (ipykernel)",
   "language": "python",
   "name": "python3"
  },
  "language_info": {
   "codemirror_mode": {
    "name": "ipython",
    "version": 3
   },
   "file_extension": ".py",
   "mimetype": "text/x-python",
   "name": "python",
   "nbconvert_exporter": "python",
   "pygments_lexer": "ipython3",
   "version": "3.9.17"
  }
 },
 "nbformat": 4,
 "nbformat_minor": 5
}
