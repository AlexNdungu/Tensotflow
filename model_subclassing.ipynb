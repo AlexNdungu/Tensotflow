{
 "cells": [
  {
   "cell_type": "code",
   "execution_count": 6,
   "id": "b94f5f56",
   "metadata": {},
   "outputs": [],
   "source": [
    "import tensorflow as tf\n",
    "from tensorflow import keras\n",
    "from tensorflow.keras import layers\n",
    "from tensorflow.keras.datasets import mnist"
   ]
  },
  {
   "cell_type": "code",
   "execution_count": 7,
   "id": "ea64c251",
   "metadata": {},
   "outputs": [],
   "source": [
    "(x_train, y_train), (x_test, y_test) = mnist.load_data()"
   ]
  },
  {
   "cell_type": "code",
   "execution_count": 8,
   "id": "6617c0f0",
   "metadata": {},
   "outputs": [],
   "source": [
    "x_train = x_train.reshape(-1,28,28,1).astype(\"float32\") / 255.0\n",
    "x_test = x_test.reshape(-1,28,28,1).astype(\"float32\") / 255.0"
   ]
  },
  {
   "cell_type": "code",
   "execution_count": 13,
   "id": "fbc09da0",
   "metadata": {},
   "outputs": [],
   "source": [
    "class CNNBlock(layers.Layer):\n",
    "    def __init__(self, out_channels, kernel_size=3):\n",
    "        super(CNNBlock, self).__init__()\n",
    "        self.conv = layers.Conv2D(out_channels, kernel_size, padding='same')\n",
    "        self.bn = layers.BatchNormalization()\n",
    "        \n",
    "    def call(self, input_tensor, training=False):\n",
    "        x = self.conv(input_tensor)\n",
    "        x = self.bn(x, training=training)\n",
    "        x = tf.nn.relu(x)\n",
    "        return x"
   ]
  },
  {
   "cell_type": "code",
   "execution_count": 14,
   "id": "19bc54a5",
   "metadata": {},
   "outputs": [],
   "source": [
    "model = keras.Sequential(\n",
    "[\n",
    "    CNNBlock(32),\n",
    "    CNNBlock(64),\n",
    "    CNNBlock(128),\n",
    "    layers.Flatten(),\n",
    "    layers.Dense(10),\n",
    "])"
   ]
  },
  {
   "cell_type": "code",
   "execution_count": 17,
   "id": "ec22c5d4",
   "metadata": {},
   "outputs": [],
   "source": [
    "model.compile(\n",
    "    optimizer = keras.optimizers.Adam(),\n",
    "    loss = keras.losses.SparseCategoricalCrossentropy(from_logits=True),\n",
    "    metrics=[\"accuracy\"],\n",
    ")"
   ]
  },
  {
   "cell_type": "code",
   "execution_count": 18,
   "id": "4ae7940b",
   "metadata": {},
   "outputs": [
    {
     "name": "stdout",
     "output_type": "stream",
     "text": [
      "Epoch 1/3\n",
      "938/938 - 335s - loss: 0.5471 - accuracy: 0.9483 - 335s/epoch - 358ms/step\n",
      "Epoch 2/3\n",
      "938/938 - 341s - loss: 0.0868 - accuracy: 0.9827 - 341s/epoch - 364ms/step\n",
      "Epoch 3/3\n",
      "938/938 - 370s - loss: 0.0328 - accuracy: 0.9904 - 370s/epoch - 395ms/step\n",
      "157/157 - 8s - loss: 0.0534 - accuracy: 0.9857 - 8s/epoch - 50ms/step\n"
     ]
    },
    {
     "data": {
      "text/plain": [
       "[0.0534060075879097, 0.9857000112533569]"
      ]
     },
     "execution_count": 18,
     "metadata": {},
     "output_type": "execute_result"
    }
   ],
   "source": [
    "model.fit(x_train,y_train, batch_size=64, epochs=3, verbose=2)\n",
    "model.evaluate(x_test,y_test, batch_size=64, verbose=2)"
   ]
  },
  {
   "cell_type": "code",
   "execution_count": 19,
   "id": "ca87711b",
   "metadata": {},
   "outputs": [],
   "source": [
    "#ResBlock\n",
    "class ResBlock(layers.Layer):\n",
    "    def __init__(self, channels):\n",
    "        \n",
    "        super(ResBlock, self).__init__()\n",
    "        self.ccn1 = CNNBlock(channels[0])\n",
    "        self.ccn2 = CNNBlock(channels[1])\n",
    "        self.ccn3 = CNNBlock(channels[2])\n",
    "        self.pooling = layers.MaxPooling2D()\n",
    "        self.identity_mapping = layers.Conv2D(channels[1], 1, padding='same')\n",
    "        \n",
    "    def call(self, input_tensor, training=False):\n",
    "        x = self.ccn1(input_tensor, training=training)\n",
    "        x = self.ccn2(x, training=training)\n",
    "        x = self.ccn3(x + self.identity_mapping(input_tensor), training=training)\n",
    "        return self.pooling(x)"
   ]
  },
  {
   "cell_type": "code",
   "execution_count": 21,
   "id": "1a7a4c01",
   "metadata": {},
   "outputs": [],
   "source": [
    "class ResNet_like(keras.Model):\n",
    "    def __init__(self, num_classes=10):\n",
    "        \n",
    "        super(ResNet_like, self).__init__()\n",
    "        self.block1 = ResBlock([32,32,64])\n",
    "        self.block2 = ResBlock([128,128,256])\n",
    "        self.block3 = ResBlock([128,256,512])\n",
    "        self.pool = layers.GlobalAveragePooling2D()\n",
    "        self.classifier = layers.Dense(num_classes)\n",
    "        \n",
    "    def call(self, input_tensor, training=False):\n",
    "        x = self.block1(input_tensor, training=training)\n",
    "        x = self.block2(x, training=training)\n",
    "        x = self.block3(x, training=training)\n",
    "        x = self.pool(x)\n",
    "        return self.classifier(x)\n",
    "        "
   ]
  },
  {
   "cell_type": "code",
   "execution_count": 24,
   "id": "d97e5187",
   "metadata": {},
   "outputs": [],
   "source": [
    "model = ResNet_like(num_classes=10)\n",
    "model.compile(\n",
    "    optimizer = keras.optimizers.Adam(),\n",
    "    loss = keras.losses.SparseCategoricalCrossentropy(from_logits=True),\n",
    "    metrics=[\"accuracy\"],\n",
    ")"
   ]
  },
  {
   "cell_type": "code",
   "execution_count": 26,
   "id": "8333be56",
   "metadata": {},
   "outputs": [
    {
     "name": "stdout",
     "output_type": "stream",
     "text": [
      "Epoch 1/20\n",
      "938/938 - 854s - loss: 0.0519 - accuracy: 0.9842 - 854s/epoch - 910ms/step\n",
      "Epoch 2/20\n",
      "938/938 - 878s - loss: 0.0319 - accuracy: 0.9897 - 878s/epoch - 936ms/step\n",
      "Epoch 3/20\n",
      "938/938 - 852s - loss: 0.0264 - accuracy: 0.9917 - 852s/epoch - 908ms/step\n",
      "Epoch 4/20\n",
      "938/938 - 859s - loss: 0.0234 - accuracy: 0.9925 - 859s/epoch - 915ms/step\n",
      "Epoch 5/20\n",
      "938/938 - 805s - loss: 0.0188 - accuracy: 0.9938 - 805s/epoch - 858ms/step\n",
      "Epoch 6/20\n",
      "938/938 - 809s - loss: 0.0183 - accuracy: 0.9941 - 809s/epoch - 862ms/step\n",
      "Epoch 7/20\n",
      "938/938 - 810s - loss: 0.0157 - accuracy: 0.9949 - 810s/epoch - 864ms/step\n",
      "Epoch 8/20\n",
      "938/938 - 798s - loss: 0.0173 - accuracy: 0.9945 - 798s/epoch - 851ms/step\n",
      "Epoch 9/20\n",
      "938/938 - 850s - loss: 0.0119 - accuracy: 0.9962 - 850s/epoch - 906ms/step\n",
      "Epoch 10/20\n",
      "938/938 - 803s - loss: 0.0119 - accuracy: 0.9961 - 803s/epoch - 856ms/step\n",
      "Epoch 11/20\n",
      "938/938 - 789s - loss: 0.0094 - accuracy: 0.9969 - 789s/epoch - 841ms/step\n",
      "Epoch 12/20\n",
      "938/938 - 813s - loss: 0.0094 - accuracy: 0.9971 - 813s/epoch - 867ms/step\n",
      "Epoch 13/20\n",
      "938/938 - 810s - loss: 0.0077 - accuracy: 0.9974 - 810s/epoch - 864ms/step\n",
      "Epoch 14/20\n",
      "938/938 - 830s - loss: 0.0083 - accuracy: 0.9972 - 830s/epoch - 885ms/step\n",
      "Epoch 15/20\n",
      "938/938 - 858s - loss: 0.0072 - accuracy: 0.9977 - 858s/epoch - 914ms/step\n",
      "Epoch 16/20\n",
      "938/938 - 821s - loss: 0.0050 - accuracy: 0.9984 - 821s/epoch - 875ms/step\n",
      "Epoch 17/20\n",
      "938/938 - 845s - loss: 0.0050 - accuracy: 0.9983 - 845s/epoch - 901ms/step\n",
      "Epoch 18/20\n",
      "938/938 - 863s - loss: 0.0038 - accuracy: 0.9989 - 863s/epoch - 920ms/step\n",
      "Epoch 19/20\n",
      "938/938 - 986s - loss: 0.0074 - accuracy: 0.9976 - 986s/epoch - 1s/step\n",
      "Epoch 20/20\n",
      "938/938 - 729s - loss: 0.0036 - accuracy: 0.9987 - 729s/epoch - 777ms/step\n",
      "157/157 - 19s - loss: 0.0784 - accuracy: 0.9824 - 19s/epoch - 118ms/step\n"
     ]
    },
    {
     "data": {
      "text/plain": [
       "[0.07835865020751953, 0.9824000000953674]"
      ]
     },
     "execution_count": 26,
     "metadata": {},
     "output_type": "execute_result"
    }
   ],
   "source": [
    "model.fit(x_train,y_train, batch_size=64, epochs=20, verbose=2)\n",
    "model.evaluate(x_test,y_test, batch_size=64, verbose=2)"
   ]
  },
  {
   "cell_type": "code",
   "execution_count": null,
   "id": "207e6b9f",
   "metadata": {},
   "outputs": [],
   "source": []
  }
 ],
 "metadata": {
  "kernelspec": {
   "display_name": "Python 3 (ipykernel)",
   "language": "python",
   "name": "python3"
  },
  "language_info": {
   "codemirror_mode": {
    "name": "ipython",
    "version": 3
   },
   "file_extension": ".py",
   "mimetype": "text/x-python",
   "name": "python",
   "nbconvert_exporter": "python",
   "pygments_lexer": "ipython3",
   "version": "3.9.17"
  }
 },
 "nbformat": 4,
 "nbformat_minor": 5
}
