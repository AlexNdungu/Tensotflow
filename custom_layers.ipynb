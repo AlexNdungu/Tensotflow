{
 "cells": [
  {
   "cell_type": "code",
   "execution_count": 6,
   "id": "667ac88b",
   "metadata": {},
   "outputs": [],
   "source": [
    "import tensorflow as tf\n",
    "from tensorflow import keras\n",
    "from tensorflow.keras import layers\n",
    "from tensorflow.keras.datasets import mnist"
   ]
  },
  {
   "cell_type": "code",
   "execution_count": 9,
   "id": "0313462c",
   "metadata": {},
   "outputs": [],
   "source": [
    "(x_train, y_train), (x_test, y_test) = mnist.load_data()\n",
    "x_train = x_train.reshape(-1, 28 *28).astype(\"float32\") / 255.0\n",
    "x_test = x_test.reshape(-1, 28 *28).astype(\"float32\") / 255.0"
   ]
  },
  {
   "cell_type": "code",
   "execution_count": 23,
   "id": "bbb4deb5",
   "metadata": {},
   "outputs": [],
   "source": [
    "class Dense(layers.Layer):\n",
    "    \n",
    "    def __init__(self, units):\n",
    "        super(Dense, self).__init__()\n",
    "        self.units = units\n",
    "    \n",
    "        \n",
    "    def build(self, input_shape):\n",
    "        \n",
    "        self.w = self.add_weight(\n",
    "            name = 'w',\n",
    "            shape=(input_shape[-1], self.units),\n",
    "            initializer= 'random_normal',\n",
    "            trainable=True,\n",
    "            \n",
    "        )\n",
    "        \n",
    "        self.b = self.add_weight(\n",
    "            name='b', shape=(self.units,),\n",
    "            initializer='zeros',\n",
    "            trainable=True\n",
    "        )\n",
    "        \n",
    "        \n",
    "    def call(self, inputs):\n",
    "        \n",
    "        return tf.matmul(inputs, self.w) + self.b"
   ]
  },
  {
   "cell_type": "code",
   "execution_count": 28,
   "id": "7482b97e",
   "metadata": {},
   "outputs": [],
   "source": [
    "class MyReLu(layers.Layer):\n",
    "    def __init__(self):\n",
    "        \n",
    "        super(MyReLu, self).__init__()\n",
    "        \n",
    "    def call(self,x):\n",
    "        return tf.math.maximum(x,0)\n",
    "    "
   ]
  },
  {
   "cell_type": "code",
   "execution_count": 29,
   "id": "e8552eb7",
   "metadata": {},
   "outputs": [],
   "source": [
    "class MyModel(keras.Model):\n",
    "    \n",
    "    def __init__(self, num_classes = 10):\n",
    "        \n",
    "        super(MyModel, self).__init__()\n",
    "        self.dense1 = Dense(64)\n",
    "        self.dense2 = Dense(num_classes)\n",
    "        self.relu = MyReLu()\n",
    "        #self.dense1 = layers.Dense(64)\n",
    "        #self.dense2 = layers.Dense(num_classes)\n",
    "        \n",
    "    def call(self, input_tensor):\n",
    "        x = self.relu(self.dense1(input_tensor))\n",
    "        return self.dense2(x)"
   ]
  },
  {
   "cell_type": "code",
   "execution_count": 30,
   "id": "ff6e813c",
   "metadata": {},
   "outputs": [],
   "source": [
    "model = MyModel()\n",
    "model.compile(\n",
    "    loss=keras.losses.SparseCategoricalCrossentropy(from_logits=True),\n",
    "    optimizer = keras.optimizers.Adam(),\n",
    "    metrics = [\"accuracy\"],\n",
    ")"
   ]
  },
  {
   "cell_type": "code",
   "execution_count": 31,
   "id": "14b4f876",
   "metadata": {},
   "outputs": [
    {
     "name": "stdout",
     "output_type": "stream",
     "text": [
      "Epoch 1/2\n",
      "1875/1875 - 2s - loss: 0.3478 - accuracy: 0.9045 - 2s/epoch - 1ms/step\n",
      "Epoch 2/2\n",
      "1875/1875 - 2s - loss: 0.1632 - accuracy: 0.9530 - 2s/epoch - 821us/step\n",
      "313/313 - 0s - loss: 0.1349 - accuracy: 0.9606 - 342ms/epoch - 1ms/step\n"
     ]
    },
    {
     "data": {
      "text/plain": [
       "[0.13494901359081268, 0.9606000185012817]"
      ]
     },
     "execution_count": 31,
     "metadata": {},
     "output_type": "execute_result"
    }
   ],
   "source": [
    "model.fit(x_train,y_train, batch_size=32, epochs=2, verbose=2)\n",
    "model.evaluate(x_test,y_test, batch_size=32, verbose=2)"
   ]
  },
  {
   "cell_type": "code",
   "execution_count": 32,
   "id": "03311d74",
   "metadata": {},
   "outputs": [],
   "source": [
    "model.save_weights('save_model/')"
   ]
  },
  {
   "cell_type": "code",
   "execution_count": null,
   "id": "66947d67",
   "metadata": {},
   "outputs": [],
   "source": []
  }
 ],
 "metadata": {
  "kernelspec": {
   "display_name": "Python 3 (ipykernel)",
   "language": "python",
   "name": "python3"
  },
  "language_info": {
   "codemirror_mode": {
    "name": "ipython",
    "version": 3
   },
   "file_extension": ".py",
   "mimetype": "text/x-python",
   "name": "python",
   "nbconvert_exporter": "python",
   "pygments_lexer": "ipython3",
   "version": "3.9.17"
  }
 },
 "nbformat": 4,
 "nbformat_minor": 5
}
