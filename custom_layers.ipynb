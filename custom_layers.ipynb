{
 "cells": [
  {
   "cell_type": "code",
   "execution_count": 6,
   "id": "03af9f25",
   "metadata": {},
   "outputs": [],
   "source": [
    "import tensorflow as tf\n",
    "from tensorflow import keras\n",
    "from tensorflow.keras import layers\n",
    "from tensorflow.keras.datasets import mnist"
   ]
  },
  {
   "cell_type": "code",
   "execution_count": 9,
   "id": "33f8a60b",
   "metadata": {},
   "outputs": [],
   "source": [
    "(x_train, y_train), (x_test, y_test) = mnist.load_data()\n",
    "x_train = x_train.reshape(-1, 28 *28).astype(\"float32\") / 255.0\n",
    "x_test = x_test.reshape(-1, 28 *28).astype(\"float32\") / 255.0"
   ]
  },
  {
   "cell_type": "code",
   "execution_count": null,
   "id": "0ec194cd",
   "metadata": {},
   "outputs": [],
   "source": [
    "class Dense(layers.Layer):\n",
    "    \n",
    "    def __init__(self, units, input_dim):\n",
    "        super(Dense, self).__init_()\n",
    "        \n",
    "        self.w = self.add_weight(\n",
    "            name = 'w',\n",
    "            shape=(input_dim, units),\n",
    "            initialize= 'random_normal',\n",
    "            trainable=True,\n",
    "            \n",
    "        )\n",
    "        \n",
    "        self.b = self.add_weight(\n",
    "            name='b', shape=(units,),\n",
    "            initializer='zeros',\n",
    "            trainable=True\n",
    "        )\n",
    "        \n",
    "    def call(self, inputs):\n",
    "        \n",
    "        return tf.matmul(inputs, self.w) + self.b"
   ]
  },
  {
   "cell_type": "code",
   "execution_count": 10,
   "id": "0b70be72",
   "metadata": {},
   "outputs": [],
   "source": [
    "class MyModel(keras.Model):\n",
    "    \n",
    "    def __init__(self, num_classes = 10):\n",
    "        \n",
    "        super(MyModel, self).__init__()\n",
    "        self.dense1 = Dense(64, 784)\n",
    "        self.dense2 = Dense(10, )\n",
    "        self.dense1 = layers.Dense(64)\n",
    "        self.dense2 = layers.Dense(num_classes)\n",
    "        \n",
    "    def call(self, input_tensor):\n",
    "        x = tf.nn.relu(self.dense1(input_tensor))\n",
    "        return self.dense2(x)"
   ]
  },
  {
   "cell_type": "code",
   "execution_count": 11,
   "id": "9524d5fd",
   "metadata": {},
   "outputs": [],
   "source": [
    "model = MyModel()\n",
    "model.compile(\n",
    "    loss=keras.losses.SparseCategoricalCrossentropy(from_logits=True),\n",
    "    optimizer = keras.optimizers.Adam(),\n",
    "    metrics = [\"accuracy\"],\n",
    ")"
   ]
  },
  {
   "cell_type": "code",
   "execution_count": 12,
   "id": "c2265e87",
   "metadata": {},
   "outputs": [
    {
     "name": "stdout",
     "output_type": "stream",
     "text": [
      "Epoch 1/2\n",
      "1875/1875 - 2s - loss: 0.3036 - accuracy: 0.9150 - 2s/epoch - 1ms/step\n",
      "Epoch 2/2\n",
      "1875/1875 - 2s - loss: 0.1460 - accuracy: 0.9580 - 2s/epoch - 936us/step\n",
      "313/313 - 0s - loss: 0.1196 - accuracy: 0.9657 - 395ms/epoch - 1ms/step\n"
     ]
    },
    {
     "data": {
      "text/plain": [
       "[0.11955471336841583, 0.9656999707221985]"
      ]
     },
     "execution_count": 12,
     "metadata": {},
     "output_type": "execute_result"
    }
   ],
   "source": [
    "model.fit(x_train,y_train, batch_size=32, epochs=2, verbose=2)\n",
    "model.evaluate(x_test,y_test, batch_size=32, verbose=2)"
   ]
  },
  {
   "cell_type": "code",
   "execution_count": null,
   "id": "ad619dd3",
   "metadata": {},
   "outputs": [],
   "source": []
  }
 ],
 "metadata": {
  "kernelspec": {
   "display_name": "Python 3 (ipykernel)",
   "language": "python",
   "name": "python3"
  },
  "language_info": {
   "codemirror_mode": {
    "name": "ipython",
    "version": 3
   },
   "file_extension": ".py",
   "mimetype": "text/x-python",
   "name": "python",
   "nbconvert_exporter": "python",
   "pygments_lexer": "ipython3",
   "version": "3.9.17"
  }
 },
 "nbformat": 4,
 "nbformat_minor": 5
}
