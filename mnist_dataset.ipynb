{
 "cells": [
  {
   "cell_type": "code",
   "execution_count": 6,
   "id": "344a3ec9",
   "metadata": {},
   "outputs": [],
   "source": [
    "import tensorflow as tf    \n",
    "from tensorflow import keras\n",
    "from tensorflow.keras import layers\n",
    "from tensorflow.keras.datasets import mnist"
   ]
  },
  {
   "cell_type": "code",
   "execution_count": 7,
   "id": "eb678b12",
   "metadata": {},
   "outputs": [
    {
     "name": "stdout",
     "output_type": "stream",
     "text": [
      "Downloading data from https://storage.googleapis.com/tensorflow/tf-keras-datasets/mnist.npz\n",
      "11490434/11490434 [==============================] - 12s 1us/step\n"
     ]
    }
   ],
   "source": [
    "(x_train, y_train), (x_test, y_test) = mnist.load_data()"
   ]
  },
  {
   "cell_type": "code",
   "execution_count": 8,
   "id": "8f954ff0",
   "metadata": {},
   "outputs": [],
   "source": [
    "x_train = x_train.reshape(-1, 28*28).astype(\"float32\") / 255.0\n",
    "x_test = x_test.reshape(-1, 28*28).astype(\"float32\") / 255.0"
   ]
  },
  {
   "cell_type": "code",
   "execution_count": 10,
   "id": "53f3e47f",
   "metadata": {},
   "outputs": [
    {
     "name": "stdout",
     "output_type": "stream",
     "text": [
      "Epoch 1/5\n",
      "1875/1875 - 4s - loss: 0.1858 - accuracy: 0.9432 - 4s/epoch - 2ms/step\n",
      "Epoch 2/5\n",
      "1875/1875 - 3s - loss: 0.0798 - accuracy: 0.9753 - 3s/epoch - 2ms/step\n",
      "Epoch 3/5\n",
      "1875/1875 - 3s - loss: 0.0551 - accuracy: 0.9824 - 3s/epoch - 2ms/step\n",
      "Epoch 4/5\n",
      "1875/1875 - 3s - loss: 0.0407 - accuracy: 0.9862 - 3s/epoch - 2ms/step\n",
      "Epoch 5/5\n",
      "1875/1875 - 3s - loss: 0.0337 - accuracy: 0.9891 - 3s/epoch - 2ms/step\n",
      "313/313 - 1s - loss: 0.0752 - accuracy: 0.9768 - 622ms/epoch - 2ms/step\n"
     ]
    },
    {
     "data": {
      "text/plain": [
       "[0.07523003220558167, 0.9768000245094299]"
      ]
     },
     "execution_count": 10,
     "metadata": {},
     "output_type": "execute_result"
    }
   ],
   "source": [
    "#Sequencial API\n",
    "model = keras.Sequential(\n",
    "    [\n",
    "        layers.Dense(512, activation='relu'),\n",
    "        layers.Dense(256, activation='relu'),\n",
    "        layers.Dense(10)\n",
    "    ]\n",
    ")\n",
    "\n",
    "model.compile(\n",
    "    loss= keras.losses.SparseCategoricalCrossentropy(from_logits=True),\n",
    "    optimizer = keras.optimizers.Adam(learning_rate=0.001),\n",
    "    metrics=[\"accuracy\"]\n",
    ")\n",
    "\n",
    "model.fit(x_train,y_train, batch_size=32, epochs=5, verbose=2)\n",
    "\n",
    "model.evaluate(x_test, y_test, batch_size=32, verbose=2)"
   ]
  },
  {
   "cell_type": "code",
   "execution_count": 12,
   "id": "94aa318e",
   "metadata": {},
   "outputs": [
    {
     "name": "stdout",
     "output_type": "stream",
     "text": [
      "Epoch 1/5\n",
      "1875/1875 - 4s - loss: 0.1865 - accuracy: 0.9440 - 4s/epoch - 2ms/step\n",
      "Epoch 2/5\n",
      "1875/1875 - 3s - loss: 0.0801 - accuracy: 0.9751 - 3s/epoch - 2ms/step\n",
      "Epoch 3/5\n",
      "1875/1875 - 3s - loss: 0.0536 - accuracy: 0.9823 - 3s/epoch - 2ms/step\n",
      "Epoch 4/5\n",
      "1875/1875 - 3s - loss: 0.0412 - accuracy: 0.9867 - 3s/epoch - 2ms/step\n",
      "Epoch 5/5\n",
      "1875/1875 - 3s - loss: 0.0338 - accuracy: 0.9891 - 3s/epoch - 2ms/step\n",
      "313/313 - 0s - loss: 0.0777 - accuracy: 0.9789 - 412ms/epoch - 1ms/step\n"
     ]
    },
    {
     "data": {
      "text/plain": [
       "[0.0777270495891571, 0.9789000153541565]"
      ]
     },
     "execution_count": 12,
     "metadata": {},
     "output_type": "execute_result"
    }
   ],
   "source": [
    "#Functional API\n",
    "inputs = keras.Input(shape=(784))\n",
    "x = layers.Dense(512, activation='relu')(inputs)\n",
    "x = layers.Dense(256, activation='relu')(x)\n",
    "outputs = layers.Dense(10, activation='softmax')(x)\n",
    "model = keras.Model(inputs=inputs, outputs=outputs)\n",
    "\n",
    "model.compile(\n",
    "    loss= keras.losses.SparseCategoricalCrossentropy(from_logits=False),\n",
    "    optimizer = keras.optimizers.Adam(learning_rate=0.001),\n",
    "    metrics=[\"accuracy\"]\n",
    ")\n",
    "\n",
    "model.fit(x_train,y_train, batch_size=32, epochs=5, verbose=2)\n",
    "\n",
    "model.evaluate(x_test, y_test, batch_size=32, verbose=2)"
   ]
  },
  {
   "cell_type": "code",
   "execution_count": null,
   "id": "d5882ae8",
   "metadata": {},
   "outputs": [],
   "source": []
  }
 ],
 "metadata": {
  "kernelspec": {
   "display_name": "Python 3 (ipykernel)",
   "language": "python",
   "name": "python3"
  },
  "language_info": {
   "codemirror_mode": {
    "name": "ipython",
    "version": 3
   },
   "file_extension": ".py",
   "mimetype": "text/x-python",
   "name": "python",
   "nbconvert_exporter": "python",
   "pygments_lexer": "ipython3",
   "version": "3.9.17"
  }
 },
 "nbformat": 4,
 "nbformat_minor": 5
}
