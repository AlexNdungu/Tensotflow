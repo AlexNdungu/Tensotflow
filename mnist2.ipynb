{
 "cells": [
  {
   "cell_type": "code",
   "execution_count": 1,
   "id": "81035c0c",
   "metadata": {},
   "outputs": [],
   "source": [
    "import tensorflow as tf\n",
    "from tensorflow import keras\n",
    "from tensorflow.keras import layers\n",
    "from tensorflow.keras.datasets import mnist"
   ]
  },
  {
   "cell_type": "code",
   "execution_count": 2,
   "id": "206076d1",
   "metadata": {},
   "outputs": [],
   "source": [
    "(x_train, y_train), (x_test, y_test) = mnist.load_data()"
   ]
  },
  {
   "cell_type": "code",
   "execution_count": 3,
   "id": "1675d6bd",
   "metadata": {},
   "outputs": [],
   "source": [
    "x_train = x_train.astype(\"float32\") / 255.0\n",
    "x_test = x_test.astype(\"float32\") / 255.0"
   ]
  },
  {
   "cell_type": "code",
   "execution_count": 4,
   "id": "b9515273",
   "metadata": {},
   "outputs": [],
   "source": [
    "model = keras.Sequential()\n",
    "model.add(keras.Input(shape=(None, 28)))\n",
    "model.add(\n",
    "    layers.SimpleRNN(512, return_sequences=True, activation='relu')\n",
    ")\n",
    "model.add(\n",
    "    layers.SimpleRNN(512, activation='relu')\n",
    ")\n",
    "model.add(layers.Dense(10))"
   ]
  },
  {
   "cell_type": "code",
   "execution_count": 5,
   "id": "8ed3580a",
   "metadata": {},
   "outputs": [],
   "source": [
    "model.compile(\n",
    "    loss=keras.losses.SparseCategoricalCrossentropy(from_logits=True),\n",
    "    optimizer = keras.optimizers.Adam(learning_rate=0.001),\n",
    "    metrics=[\"accuracy\"]\n",
    ")"
   ]
  },
  {
   "cell_type": "code",
   "execution_count": 6,
   "id": "a729230e",
   "metadata": {},
   "outputs": [
    {
     "name": "stdout",
     "output_type": "stream",
     "text": [
      "Epoch 1/10\n",
      "938/938 - 57s - loss: 0.3205 - accuracy: 0.8999 - 57s/epoch - 61ms/step\n",
      "Epoch 2/10\n",
      "938/938 - 61s - loss: 0.1523 - accuracy: 0.9581 - 61s/epoch - 65ms/step\n",
      "Epoch 3/10\n",
      "938/938 - 63s - loss: 0.1187 - accuracy: 0.9677 - 63s/epoch - 67ms/step\n",
      "Epoch 4/10\n",
      "938/938 - 63s - loss: 0.0972 - accuracy: 0.9737 - 63s/epoch - 67ms/step\n",
      "Epoch 5/10\n",
      "938/938 - 69s - loss: 0.0957 - accuracy: 0.9738 - 69s/epoch - 74ms/step\n",
      "Epoch 6/10\n",
      "938/938 - 61s - loss: 0.0877 - accuracy: 0.9757 - 61s/epoch - 65ms/step\n",
      "Epoch 7/10\n",
      "938/938 - 63s - loss: 0.0746 - accuracy: 0.9794 - 63s/epoch - 67ms/step\n",
      "Epoch 8/10\n",
      "938/938 - 63s - loss: 0.0735 - accuracy: 0.9794 - 63s/epoch - 67ms/step\n",
      "Epoch 9/10\n",
      "938/938 - 89s - loss: 0.0806 - accuracy: 0.9774 - 89s/epoch - 95ms/step\n",
      "Epoch 10/10\n",
      "938/938 - 61s - loss: 0.0721 - accuracy: 0.9805 - 61s/epoch - 65ms/step\n",
      "157/157 - 4s - loss: 0.0926 - accuracy: 0.9751 - 4s/epoch - 24ms/step\n"
     ]
    },
    {
     "data": {
      "text/plain": [
       "[0.09257349371910095, 0.9750999808311462]"
      ]
     },
     "execution_count": 6,
     "metadata": {},
     "output_type": "execute_result"
    }
   ],
   "source": [
    "model.fit(x_train, y_train, batch_size=64, epochs=10, verbose=2)\n",
    "model.evaluate(x_test, y_test, batch_size=64, verbose=2)"
   ]
  },
  {
   "cell_type": "code",
   "execution_count": null,
   "id": "13492824",
   "metadata": {},
   "outputs": [],
   "source": []
  }
 ],
 "metadata": {
  "kernelspec": {
   "display_name": "Python 3 (ipykernel)",
   "language": "python",
   "name": "python3"
  },
  "language_info": {
   "codemirror_mode": {
    "name": "ipython",
    "version": 3
   },
   "file_extension": ".py",
   "mimetype": "text/x-python",
   "name": "python",
   "nbconvert_exporter": "python",
   "pygments_lexer": "ipython3",
   "version": "3.9.17"
  }
 },
 "nbformat": 4,
 "nbformat_minor": 5
}
