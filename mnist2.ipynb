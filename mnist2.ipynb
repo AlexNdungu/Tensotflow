{
 "cells": [
  {
   "cell_type": "code",
   "execution_count": 1,
   "id": "fa10e8fa",
   "metadata": {},
   "outputs": [],
   "source": [
    "import tensorflow as tf\n",
    "from tensorflow import keras\n",
    "from tensorflow.keras import layers\n",
    "from tensorflow.keras.datasets import mnist"
   ]
  },
  {
   "cell_type": "code",
   "execution_count": 2,
   "id": "30e8e967",
   "metadata": {},
   "outputs": [],
   "source": [
    "(x_train, y_train), (x_test, y_test) = mnist.load_data()"
   ]
  },
  {
   "cell_type": "code",
   "execution_count": 3,
   "id": "52b08227",
   "metadata": {},
   "outputs": [],
   "source": [
    "x_train = x_train.astype(\"float32\") / 255.0\n",
    "x_test = x_test.astype(\"float32\") / 255.0"
   ]
  },
  {
   "cell_type": "code",
   "execution_count": 4,
   "id": "577e0ee7",
   "metadata": {},
   "outputs": [],
   "source": [
    "#RNN\n",
    "model = keras.Sequential()\n",
    "model.add(keras.Input(shape=(None, 28)))\n",
    "model.add(\n",
    "    layers.SimpleRNN(512, return_sequences=True, activation='relu')\n",
    ")\n",
    "model.add(\n",
    "    layers.SimpleRNN(512, activation='relu')\n",
    ")\n",
    "model.add(layers.Dense(10))"
   ]
  },
  {
   "cell_type": "code",
   "execution_count": 5,
   "id": "67810c4b",
   "metadata": {},
   "outputs": [],
   "source": [
    "model.compile(\n",
    "    loss=keras.losses.SparseCategoricalCrossentropy(from_logits=True),\n",
    "    optimizer = keras.optimizers.Adam(learning_rate=0.001),\n",
    "    metrics=[\"accuracy\"]\n",
    ")"
   ]
  },
  {
   "cell_type": "code",
   "execution_count": 6,
   "id": "39b0f406",
   "metadata": {},
   "outputs": [
    {
     "name": "stdout",
     "output_type": "stream",
     "text": [
      "Epoch 1/10\n",
      "938/938 - 57s - loss: 0.3205 - accuracy: 0.8999 - 57s/epoch - 61ms/step\n",
      "Epoch 2/10\n",
      "938/938 - 61s - loss: 0.1523 - accuracy: 0.9581 - 61s/epoch - 65ms/step\n",
      "Epoch 3/10\n",
      "938/938 - 63s - loss: 0.1187 - accuracy: 0.9677 - 63s/epoch - 67ms/step\n",
      "Epoch 4/10\n",
      "938/938 - 63s - loss: 0.0972 - accuracy: 0.9737 - 63s/epoch - 67ms/step\n",
      "Epoch 5/10\n",
      "938/938 - 69s - loss: 0.0957 - accuracy: 0.9738 - 69s/epoch - 74ms/step\n",
      "Epoch 6/10\n",
      "938/938 - 61s - loss: 0.0877 - accuracy: 0.9757 - 61s/epoch - 65ms/step\n",
      "Epoch 7/10\n",
      "938/938 - 63s - loss: 0.0746 - accuracy: 0.9794 - 63s/epoch - 67ms/step\n",
      "Epoch 8/10\n",
      "938/938 - 63s - loss: 0.0735 - accuracy: 0.9794 - 63s/epoch - 67ms/step\n",
      "Epoch 9/10\n",
      "938/938 - 89s - loss: 0.0806 - accuracy: 0.9774 - 89s/epoch - 95ms/step\n",
      "Epoch 10/10\n",
      "938/938 - 61s - loss: 0.0721 - accuracy: 0.9805 - 61s/epoch - 65ms/step\n",
      "157/157 - 4s - loss: 0.0926 - accuracy: 0.9751 - 4s/epoch - 24ms/step\n"
     ]
    },
    {
     "data": {
      "text/plain": [
       "[0.09257349371910095, 0.9750999808311462]"
      ]
     },
     "execution_count": 6,
     "metadata": {},
     "output_type": "execute_result"
    }
   ],
   "source": [
    "model.fit(x_train, y_train, batch_size=64, epochs=10, verbose=2)\n",
    "model.evaluate(x_test, y_test, batch_size=64, verbose=2)"
   ]
  },
  {
   "cell_type": "code",
   "execution_count": 7,
   "id": "10eb79e7",
   "metadata": {},
   "outputs": [],
   "source": [
    "#GRU\n",
    "model = keras.Sequential()\n",
    "model.add(keras.Input(shape=(None, 28)))\n",
    "model.add(\n",
    "    layers.GRU(256, return_sequences=True, activation='relu')\n",
    ")\n",
    "model.add(\n",
    "    layers.GRU(256, activation='relu')\n",
    ")\n",
    "model.add(layers.Dense(10))"
   ]
  },
  {
   "cell_type": "code",
   "execution_count": 8,
   "id": "2252ccef",
   "metadata": {},
   "outputs": [],
   "source": [
    "model.compile(\n",
    "    loss=keras.losses.SparseCategoricalCrossentropy(from_logits=True),\n",
    "    optimizer = keras.optimizers.Adam(learning_rate=0.001),\n",
    "    metrics=[\"accuracy\"]\n",
    ")"
   ]
  },
  {
   "cell_type": "code",
   "execution_count": 9,
   "id": "bec8db9e",
   "metadata": {},
   "outputs": [
    {
     "name": "stdout",
     "output_type": "stream",
     "text": [
      "Epoch 1/10\n"
     ]
    },
    {
     "name": "stderr",
     "output_type": "stream",
     "text": [
      "\n",
      "KeyboardInterrupt\n",
      "\n"
     ]
    }
   ],
   "source": [
    "model.fit(x_train, y_train, batch_size=64, epochs=10, verbose=2)\n",
    "model.evaluate(x_test, y_test, batch_size=64, verbose=2)"
   ]
  },
  {
   "cell_type": "code",
   "execution_count": 10,
   "id": "372a41dc",
   "metadata": {},
   "outputs": [],
   "source": [
    "#LSTM\n",
    "model = keras.Sequential()\n",
    "model.add(keras.Input(shape=(None, 28)))\n",
    "model.add(\n",
    "    layers.LSTM(256, return_sequences=True, activation='relu')\n",
    ")\n",
    "model.add(\n",
    "    layers.LSTM(256, activation='relu')\n",
    ")\n",
    "model.add(layers.Dense(10))"
   ]
  },
  {
   "cell_type": "code",
   "execution_count": 11,
   "id": "e1156cb1",
   "metadata": {},
   "outputs": [],
   "source": [
    "model.compile(\n",
    "    loss=keras.losses.SparseCategoricalCrossentropy(from_logits=True),\n",
    "    optimizer = keras.optimizers.Adam(learning_rate=0.001),\n",
    "    metrics=[\"accuracy\"]\n",
    ")"
   ]
  },
  {
   "cell_type": "code",
   "execution_count": 15,
   "id": "0ad11b29",
   "metadata": {
    "scrolled": false
   },
   "outputs": [
    {
     "name": "stdout",
     "output_type": "stream",
     "text": [
      "Epoch 1/10\n",
      "938/938 - 87s - loss: 0.0678 - accuracy: 0.9798 - 87s/epoch - 93ms/step\n",
      "Epoch 2/10\n",
      "938/938 - 91s - loss: 0.0512 - accuracy: 0.9838 - 91s/epoch - 97ms/step\n",
      "Epoch 3/10\n",
      "938/938 - 120s - loss: 0.0431 - accuracy: 0.9873 - 120s/epoch - 128ms/step\n",
      "Epoch 4/10\n",
      "938/938 - 103s - loss: 0.0374 - accuracy: 0.9886 - 103s/epoch - 110ms/step\n",
      "Epoch 5/10\n",
      "938/938 - 178s - loss: 0.0342 - accuracy: 0.9893 - 178s/epoch - 190ms/step\n",
      "Epoch 6/10\n",
      "938/938 - 138s - loss: 0.0272 - accuracy: 0.9918 - 138s/epoch - 147ms/step\n",
      "Epoch 7/10\n",
      "938/938 - 161s - loss: 0.0236 - accuracy: 0.9928 - 161s/epoch - 171ms/step\n",
      "Epoch 8/10\n",
      "938/938 - 129s - loss: 0.0212 - accuracy: 0.9934 - 129s/epoch - 138ms/step\n",
      "Epoch 9/10\n",
      "938/938 - 165s - loss: 0.0206 - accuracy: 0.9935 - 165s/epoch - 176ms/step\n",
      "Epoch 10/10\n",
      "938/938 - 176s - loss: 0.0183 - accuracy: 0.9942 - 176s/epoch - 188ms/step\n",
      "157/157 - 10s - loss: 0.0528 - accuracy: 0.9847 - 10s/epoch - 64ms/step\n"
     ]
    },
    {
     "data": {
      "text/plain": [
       "[0.052764177322387695, 0.9847000241279602]"
      ]
     },
     "execution_count": 15,
     "metadata": {},
     "output_type": "execute_result"
    }
   ],
   "source": [
    "model.fit(x_train, y_train, batch_size=64, epochs=10, verbose=2)\n",
    "model.evaluate(x_test, y_test, batch_size=64, verbose=2)"
   ]
  },
  {
   "cell_type": "code",
   "execution_count": 16,
   "id": "09f378a9",
   "metadata": {},
   "outputs": [],
   "source": [
    "#Bidirectional\n",
    "model = keras.Sequential()\n",
    "model.add(keras.Input(shape=(None, 28)))\n",
    "model.add(\n",
    "    layers.Bidirectional(\n",
    "        layers.LSTM(256, return_sequences=True, activation='relu')\n",
    "    )\n",
    ")\n",
    "model.add(\n",
    "    layers.Bidirectional(\n",
    "        layers.LSTM(256, activation='relu')\n",
    "    )\n",
    ")\n",
    "\n",
    "model.add(layers.Dense(10))"
   ]
  },
  {
   "cell_type": "code",
   "execution_count": 17,
   "id": "bd06ac8c",
   "metadata": {},
   "outputs": [],
   "source": [
    "model.compile(\n",
    "    loss=keras.losses.SparseCategoricalCrossentropy(from_logits=True),\n",
    "    optimizer = keras.optimizers.Adam(learning_rate=0.001),\n",
    "    metrics=[\"accuracy\"]\n",
    ")"
   ]
  },
  {
   "cell_type": "code",
   "execution_count": null,
   "id": "99d86325",
   "metadata": {},
   "outputs": [],
   "source": [
    "model.fit(x_train, y_train, batch_size=64, epochs=10, verbose=2)\n",
    "model.evaluate(x_test, y_test, batch_size=64, verbose=2)"
   ]
  }
 ],
 "metadata": {
  "kernelspec": {
   "display_name": "Python 3 (ipykernel)",
   "language": "python",
   "name": "python3"
  },
  "language_info": {
   "codemirror_mode": {
    "name": "ipython",
    "version": 3
   },
   "file_extension": ".py",
   "mimetype": "text/x-python",
   "name": "python",
   "nbconvert_exporter": "python",
   "pygments_lexer": "ipython3",
   "version": "3.9.17"
  }
 },
 "nbformat": 4,
 "nbformat_minor": 5
}
